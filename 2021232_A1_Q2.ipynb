{
  "nbformat": 4,
  "nbformat_minor": 0,
  "metadata": {
    "colab": {
      "provenance": [],
      "include_colab_link": true
    },
    "kernelspec": {
      "name": "python3",
      "display_name": "Python 3"
    },
    "language_info": {
      "name": "python"
    }
  },
  "cells": [
    {
      "cell_type": "markdown",
      "metadata": {
        "id": "view-in-github",
        "colab_type": "text"
      },
      "source": [
        "<a href=\"https://colab.research.google.com/github/Ankush-Gupta04/DL-Assignments-/blob/main/2021232_A1_Q2.ipynb\" target=\"_parent\"><img src=\"https://colab.research.google.com/assets/colab-badge.svg\" alt=\"Open In Colab\"/></a>"
      ]
    },
    {
      "cell_type": "code",
      "source": [
        "from google.colab import drive\n",
        "drive.mount('/content/drive')"
      ],
      "metadata": {
        "colab": {
          "base_uri": "https://localhost:8080/"
        },
        "id": "0S80PdWfMfd1",
        "outputId": "67413819-c711-4f86-ae57-b83b0bea2ec4"
      },
      "execution_count": 1,
      "outputs": [
        {
          "output_type": "stream",
          "name": "stdout",
          "text": [
            "Mounted at /content/drive\n"
          ]
        }
      ]
    },
    {
      "cell_type": "code",
      "source": [
        "import tarfile\n",
        "\n",
        "tar_file = \"./drive/MyDrive/DL/MNIST_DATASET.tar.xz\"\n",
        "output = \"./MNIST\"\n",
        "\n",
        "with tarfile.open(tar_file,'r:xz') as tar:\n",
        "  tar.extractall(output)"
      ],
      "metadata": {
        "id": "fDTgOChiz-ro"
      },
      "execution_count": 3,
      "outputs": []
    },
    {
      "cell_type": "code",
      "source": [
        "import os\n",
        "import csv\n",
        "\n",
        "image_folder_path = './MNIST/MNIST_DATASET/trainingSet/trainingSet/'\n",
        "csv_file_path = './dataset_train.csv'\n",
        "data = []\n",
        "\n",
        "for class_label in os.listdir(image_folder_path):\n",
        "    class_path = os.path.join(image_folder_path, class_label)\n",
        "\n",
        "    if os.path.isdir(class_path):\n",
        "        for image_file in os.listdir(class_path):\n",
        "            if image_file.lower().endswith(('.png', '.jpg', '.jpeg')):\n",
        "                image_path = os.path.join(class_path, image_file)\n",
        "                data.append([image_path, class_label])\n",
        "\n",
        "with open(csv_file_path, mode='w', newline='') as csv_file:\n",
        "    csv_writer = csv.writer(csv_file)\n",
        "    csv_writer.writerow(['path', 'label'])\n",
        "    csv_writer.writerows(data)\n",
        "\n",
        "print(f\"CSV file created at: {csv_file_path}\")\n"
      ],
      "metadata": {
        "colab": {
          "base_uri": "https://localhost:8080/"
        },
        "id": "ob2_ckZbiX_Z",
        "outputId": "c9aede34-3e75-4694-fd7c-b459974bf6de"
      },
      "execution_count": 4,
      "outputs": [
        {
          "output_type": "stream",
          "name": "stdout",
          "text": [
            "CSV file created at: ./dataset_train.csv\n"
          ]
        }
      ]
    },
    {
      "cell_type": "code",
      "source": [
        "import os\n",
        "import csv\n",
        "\n",
        "image_folder_path = './MNIST/MNIST_DATASET/testSet/'\n",
        "csv_file_path = './dataset_test.csv'\n",
        "data = []\n",
        "\n",
        "for class_label in os.listdir(image_folder_path):\n",
        "    class_path = os.path.join(image_folder_path, class_label)\n",
        "\n",
        "    if os.path.isdir(class_path):\n",
        "        for image_file in os.listdir(class_path):\n",
        "            if image_file.lower().endswith(('.png', '.jpg', '.jpeg')):\n",
        "                image_path = os.path.join(class_path, image_file)\n",
        "                data.append([image_path, class_label])\n",
        "\n",
        "with open(csv_file_path, mode='w', newline='') as csv_file:\n",
        "    csv_writer = csv.writer(csv_file)\n",
        "    csv_writer.writerow(['path', 'label'])\n",
        "    csv_writer.writerows(data)\n",
        "\n",
        "print(f\"CSV file created at: {csv_file_path}\")"
      ],
      "metadata": {
        "colab": {
          "base_uri": "https://localhost:8080/"
        },
        "id": "8a7jxZmcrlzW",
        "outputId": "5cabee25-2873-4c8c-854d-bc430eb0d8cc"
      },
      "execution_count": 5,
      "outputs": [
        {
          "output_type": "stream",
          "name": "stdout",
          "text": [
            "CSV file created at: ./dataset_test.csv\n"
          ]
        }
      ]
    },
    {
      "cell_type": "code",
      "source": [
        "import torch\n",
        "from torch.utils.data import Dataset, DataLoader\n",
        "from PIL import Image\n",
        "from torchvision import transforms\n",
        "import os\n",
        "import time\n",
        "import pandas as pd\n",
        "\n",
        "class CustomDataset(Dataset):\n",
        "    def __init__(self, csv_file, transform=None):\n",
        "        self.path_frame = csv_file\n",
        "        self.transform = transform\n",
        "        self.classes = [str(i) for i in range(0,10)]\n",
        "\n",
        "    def __len__(self):\n",
        "        return len(self.path_frame)\n",
        "\n",
        "    def __getitem__(self, index):\n",
        "      image_path = self.path_frame['path'][index]\n",
        "      label = self.path_frame['label'][index]\n",
        "\n",
        "      transform = transforms.Compose([transforms.ToTensor()])\n",
        "      image = Image.open(image_path)\n",
        "      tensor = transform(image)\n",
        "      return tensor, label\n",
        "\n",
        "\n",
        "mnist_test= CustomDataset(pd.read_csv(\"./dataset_test.csv\"))\n",
        "mnist_train= CustomDataset(pd.read_csv(\"./dataset_train.csv\"))\n",
        "\n",
        "batch_size = 128\n",
        "shuffle = False\n",
        "num_workers = 0\n",
        "\n",
        "start_time = time.time()\n",
        "mnist_train_c = DataLoader(dataset=mnist_train, batch_size=batch_size, shuffle=shuffle,num_workers=num_workers)\n",
        "mnist_test_c = DataLoader(dataset=mnist_test, batch_size=batch_size, shuffle=shuffle,num_workers=num_workers)\n",
        "\n",
        "for train_data, label in mnist_test_c:\n",
        "  pass\n",
        "\n",
        "for test_data, label in mnist_train_c:\n",
        "  pass\n",
        "\n",
        "end_time = time.time()\n",
        "\n",
        "time_t_128 = end_time - start_time\n",
        "print(f\"Time taken to create DataLoader: {time_t_128} seconds\")"
      ],
      "metadata": {
        "colab": {
          "base_uri": "https://localhost:8080/"
        },
        "id": "VJSXtVkR1xOB",
        "outputId": "4ff333f5-aa29-4dd2-e453-3cea94ecc9c9"
      },
      "execution_count": 6,
      "outputs": [
        {
          "output_type": "stream",
          "name": "stdout",
          "text": [
            "Time taken to create DataLoader: 26.71591544151306 seconds\n"
          ]
        }
      ]
    },
    {
      "cell_type": "code",
      "source": [
        "batch_size = 256\n",
        "shuffle = False\n",
        "num_workers = 0\n",
        "\n",
        "start_time = time.time()\n",
        "mnist_train_c = DataLoader(dataset=mnist_train, batch_size=batch_size, shuffle=shuffle,num_workers=num_workers)\n",
        "mnist_test_c = DataLoader(dataset=mnist_test, batch_size=batch_size, shuffle=shuffle,num_workers=num_workers)\n",
        "\n",
        "for train_data, label in mnist_test_c:\n",
        "  pass\n",
        "\n",
        "for test_data, label in mnist_train_c:\n",
        "  pass\n",
        "\n",
        "end_time = time.time()\n",
        "\n",
        "time_t_256 = end_time - start_time\n",
        "print(f\"Time taken to create DataLoader: {time_t_256} seconds\")"
      ],
      "metadata": {
        "id": "9FhpzHTfLVmv",
        "colab": {
          "base_uri": "https://localhost:8080/"
        },
        "outputId": "484b3778-d049-4658-bc96-f9347cce76c6"
      },
      "execution_count": 7,
      "outputs": [
        {
          "output_type": "stream",
          "name": "stdout",
          "text": [
            "Time taken to create DataLoader: 23.959740161895752 seconds\n"
          ]
        }
      ]
    },
    {
      "cell_type": "code",
      "source": [
        "batch_size = 512\n",
        "shuffle = False\n",
        "num_workers = 0\n",
        "\n",
        "start_time = time.time()\n",
        "mnist_train_c = DataLoader(dataset=mnist_train, batch_size=batch_size, shuffle=shuffle,num_workers=num_workers)\n",
        "mnist_test_c = DataLoader(dataset=mnist_test, batch_size=batch_size, shuffle=shuffle,num_workers=num_workers)\n",
        "\n",
        "for train_data, label in mnist_test_c:\n",
        "  pass\n",
        "\n",
        "for test_data, label in mnist_train_c:\n",
        "  pass\n",
        "\n",
        "end_time = time.time()\n",
        "\n",
        "time_t_512 = end_time - start_time\n",
        "print(f\"Time taken to create DataLoader: {time_t_512} seconds\")"
      ],
      "metadata": {
        "colab": {
          "base_uri": "https://localhost:8080/"
        },
        "id": "Y_Ng08SdOCbc",
        "outputId": "f1f92fee-b4ce-485c-b4ad-f312cb09e732"
      },
      "execution_count": 8,
      "outputs": [
        {
          "output_type": "stream",
          "name": "stdout",
          "text": [
            "Time taken to create DataLoader: 24.416155338287354 seconds\n"
          ]
        }
      ]
    },
    {
      "cell_type": "code",
      "source": [
        "batch_size = 1024\n",
        "shuffle = False\n",
        "num_workers = 0\n",
        "\n",
        "start_time = time.time()\n",
        "mnist_train_c = DataLoader(dataset=mnist_train, batch_size=batch_size, shuffle=shuffle,num_workers=num_workers)\n",
        "mnist_test_c = DataLoader(dataset=mnist_test, batch_size=batch_size, shuffle=shuffle,num_workers=num_workers)\n",
        "\n",
        "for train_data, label in mnist_test_c:\n",
        "  pass\n",
        "\n",
        "for test_data, label in mnist_train_c:\n",
        "  pass\n",
        "\n",
        "end_time = time.time()\n",
        "\n",
        "time_t_1024 = end_time - start_time\n",
        "print(f\"Time taken to create DataLoader: {time_t_1024} seconds\")"
      ],
      "metadata": {
        "colab": {
          "base_uri": "https://localhost:8080/"
        },
        "id": "ryr7dVASORjL",
        "outputId": "9f1f12e2-4474-4641-f1d9-ff0c44ffb2a2"
      },
      "execution_count": 9,
      "outputs": [
        {
          "output_type": "stream",
          "name": "stdout",
          "text": [
            "Time taken to create DataLoader: 23.7719144821167 seconds\n"
          ]
        }
      ]
    },
    {
      "cell_type": "code",
      "source": [
        "import torch\n",
        "from torch.utils.data import Dataset, DataLoader\n",
        "from PIL import Image\n",
        "import numpy as np\n",
        "from torchvision import transforms\n",
        "import os\n",
        "import time\n",
        "import pandas as pd\n",
        "from sklearn.utils import shuffle\n",
        "\n",
        "class CustomDataset(Dataset):\n",
        "  def __init__(self, csv_file, transform=None):\n",
        "    self.path_frame = csv_file\n",
        "    self.transform = transform\n",
        "    self.classes = [str(i) for i in range(0,10)]\n",
        "\n",
        "  def __len__(self):\n",
        "    return len(self.path_frame)\n",
        "\n",
        "  def __getitem__(self, index):\n",
        "    image_path = self.path_frame['path'][index]\n",
        "    label = self.path_frame['label'][index]\n",
        "\n",
        "    if self.transform:\n",
        "          image = self.transform(image_path)\n",
        "    return image, label\n",
        "\n",
        "class ToTensor:\n",
        "  def __call__(self, img):\n",
        "    if img is None:\n",
        "      return\n",
        "    img_np = np.array(img)\n",
        "    img_np = img_np / 255.0\n",
        "    img_np = np.transpose(img_np, (2, 0, 1))\n",
        "    img_np = img_np.astype(np.float32)\n",
        "    return img_np\n",
        "\n",
        "class Compose:\n",
        "  def __init__(self, transforms):\n",
        "    self.transforms = transforms\n",
        "\n",
        "  def __call__(self, img):\n",
        "    for transform in self.transforms:\n",
        "      img = transform(img)\n",
        "    return img\n",
        "\n",
        "class Resize:\n",
        "  def __init__(self, size):\n",
        "    self.size = size\n",
        "\n",
        "  def __call__(self, img):\n",
        "    if isinstance(img, Image.Image):\n",
        "      return img.resize(self.size)\n",
        "    elif isinstance(img, np.ndarray):\n",
        "      pil_img = Image.fromarray(np.uint8(img * 255.0))\n",
        "      return pil_img.resize(self.size)\n",
        "\n",
        "\n",
        "class CustomDataLoader:\n",
        "  def __init__(self, dataset, batch_size, shuffle=True):\n",
        "    self.dataset = dataset\n",
        "    self.batch_size = batch_size\n",
        "    self.shuffle_data = shuffle\n",
        "    self.current_index = 0\n",
        "\n",
        "    if shuffle:\n",
        "      self.dataset = shuffle(self.dataset)\n",
        "\n",
        "  def __iter__(self):\n",
        "    return self\n",
        "\n",
        "  def __next__(self):\n",
        "    if self.current_index >= len(self.dataset):\n",
        "      self.current_index = 0  # Reset the index for the next epoch\n",
        "      raise StopIteration\n",
        "\n",
        "    batch = self.dataset[self.current_index:self.current_index + self.batch_size]\n",
        "    self.current_index += self.batch_size\n",
        "\n",
        "    return batch\n",
        "\n",
        "\n",
        "\n",
        "\n",
        "transform = Compose([Resize((256)), ToTensor()])\n",
        "\n",
        "\n",
        "mnist_test_a= CustomDataset(pd.read_csv(\"./dataset_test.csv\"),transform=transform)\n",
        "mnist_train_a= CustomDataset(pd.read_csv(\"./dataset_train.csv\"),transform=transform)\n",
        "\n",
        "batch_size = 256\n",
        "shuffle = False\n",
        "\n",
        "start_time = time.time()\n",
        "mnist_train_dlc = CustomDataLoader(dataset=mnist_train_a, batch_size=batch_size, shuffle=shuffle)\n",
        "mnist_test_dlc = CustomDataLoader(dataset=mnist_test_a, batch_size=batch_size, shuffle=shuffle)\n",
        "\n",
        "num_epoch = len(mnist_test_a)\n",
        "print (num_epoch)\n",
        "\n",
        "for epoch in range(num_epoch):\n",
        "  for batch in mnist_train_dlc:\n",
        "    pass\n",
        "\n",
        "num_epoch = len(mnist_train_a)\n",
        "for epoch in range(num_epoch):\n",
        "  for batch in mnist_test_dlc :\n",
        "    pass\n",
        "end_time = time.time()\n",
        "\n",
        "time_a_256 = end_time - start_time\n",
        "print(f\"Time taken to create DataLoader: {time_a_256} seconds\")"
      ],
      "metadata": {
        "colab": {
          "base_uri": "https://localhost:8080/"
        },
        "id": "qXSyJkd4Ogmu",
        "outputId": "c8db3411-b17f-4032-9e89-649b312a8d8a"
      },
      "execution_count": 21,
      "outputs": [
        {
          "output_type": "stream",
          "name": "stdout",
          "text": [
            "28000\n",
            "Time taken to create DataLoader: 807.6195809841156 seconds\n"
          ]
        }
      ]
    },
    {
      "cell_type": "code",
      "source": [
        "batch_size = 512\n",
        "shuffle = False\n",
        "\n",
        "start_time = time.time()\n",
        "mnist_train_dlc = CustomDataLoader(dataset=mnist_train_a, batch_size=batch_size, shuffle=shuffle)\n",
        "mnist_test_dlc = CustomDataLoader(dataset=mnist_test_a, batch_size=batch_size, shuffle=shuffle)\n",
        "\n",
        "num_epoch = len(mnist_test_a)\n",
        "\n",
        "for epoch in range(num_epoch):\n",
        "  for batch in mnist_train_dlc:\n",
        "    pass\n",
        "\n",
        "num_epoch = len(mnist_train_a)\n",
        "for epoch in range(num_epoch):\n",
        "  for batch in mnist_test_dlc :\n",
        "    pass\n",
        "end_time = time.time()\n",
        "\n",
        "time_a_512 = end_time - start_time\n",
        "print(f\"Time taken to create DataLoader: {time_a_512} seconds\")"
      ],
      "metadata": {
        "id": "yAT122BQdXkX",
        "colab": {
          "base_uri": "https://localhost:8080/"
        },
        "outputId": "fb3a46ea-d38b-4459-b761-a38f00773150"
      },
      "execution_count": 23,
      "outputs": [
        {
          "output_type": "stream",
          "name": "stdout",
          "text": [
            "Time taken to create DataLoader: 421.48416233062744 seconds\n"
          ]
        }
      ]
    },
    {
      "cell_type": "code",
      "source": [
        "batch_size = 128\n",
        "shuffle = False\n",
        "\n",
        "start_time = time.time()\n",
        "mnist_train_dlc = CustomDataLoader(dataset=mnist_train_a, batch_size=batch_size, shuffle=shuffle)\n",
        "mnist_test_dlc = CustomDataLoader(dataset=mnist_test_a, batch_size=batch_size, shuffle=shuffle)\n",
        "\n",
        "num_epoch = len(mnist_test_a)\n",
        "\n",
        "for epoch in range(num_epoch):\n",
        "  for batch in mnist_train_dlc:\n",
        "    pass\n",
        "\n",
        "num_epoch = len(mnist_train_a)\n",
        "for epoch in range(num_epoch):\n",
        "  for batch in mnist_test_dlc :\n",
        "    pass\n",
        "end_time = time.time()\n",
        "\n",
        "time_a_128 = end_time - start_time\n",
        "print(f\"Time taken to create DataLoader: {time_a_128} seconds\")"
      ],
      "metadata": {
        "colab": {
          "base_uri": "https://localhost:8080/"
        },
        "id": "YYsSCQsgt0cv",
        "outputId": "7ec23497-2ca2-4417-b7ed-b550e4fb8ec1"
      },
      "execution_count": 25,
      "outputs": [
        {
          "output_type": "stream",
          "name": "stdout",
          "text": [
            "Time taken to create DataLoader: 1626.2390701770782 seconds\n"
          ]
        }
      ]
    },
    {
      "cell_type": "code",
      "source": [
        "batch_size = 1024\n",
        "shuffle = False\n",
        "\n",
        "start_time = time.time()\n",
        "mnist_train_dlc = CustomDataLoader(dataset=mnist_train_a, batch_size=batch_size, shuffle=shuffle)\n",
        "mnist_test_dlc = CustomDataLoader(dataset=mnist_test_a, batch_size=batch_size, shuffle=shuffle)\n",
        "\n",
        "num_epoch = len(mnist_train_a)\n",
        "\n",
        "for epoch in range(num_epoch):\n",
        "  for batch in mnist_train_dlc:\n",
        "    pass\n",
        "\n",
        "num_epoch = len(mnist_test_a)\n",
        "for epoch in range(num_epoch):\n",
        "  for batch in mnist_test_dlc :\n",
        "    pass\n",
        "end_time = time.time()\n",
        "\n",
        "time_a_1024 = end_time - start_time\n",
        "print(f\"Time taken to create DataLoader: {time_a_1024} seconds\")"
      ],
      "metadata": {
        "colab": {
          "base_uri": "https://localhost:8080/"
        },
        "id": "UjKnN-3Rt-dj",
        "outputId": "f926e87b-baac-4a59-af42-d83063e94638"
      },
      "execution_count": 27,
      "outputs": [
        {
          "output_type": "stream",
          "name": "stdout",
          "text": [
            "Time taken to create DataLoader: 245.6577229499817 seconds\n"
          ]
        }
      ]
    },
    {
      "cell_type": "code",
      "source": [
        "print(time_t_128)\n",
        "print(time_t_256)\n",
        "print(time_t_512)\n",
        "print(time_t_1024)\n",
        "\n",
        "print(time_a_128)\n",
        "print(time_a_256)\n",
        "print(time_a_512)\n",
        "print(time_a_1024)\n",
        "\n",
        "import matplotlib.pyplot as plt\n",
        "\n",
        "y_values = [time_t_128, time_t_256, time_t_512, time_t_1024]\n",
        "x_values = [128, 256, 512, 1024]\n",
        "\n",
        "plt.plot(x_values, y_values, marker='o', linestyle='-')\n",
        "\n",
        "plt.xlabel('Batch Size')\n",
        "plt.ylabel('Time in S')\n",
        "plt.title('Pytorch Version')\n",
        "\n",
        "plt.show()\n",
        "\n",
        "y_values = [time_a_128, time_a_256, time_a_512, time_a_1024]\n",
        "x_values = [128, 256, 512, 1024]\n",
        "\n",
        "plt.plot(x_values, y_values, marker='o', linestyle='-')\n",
        "\n",
        "plt.xlabel('Batch Size')\n",
        "plt.ylabel('Time in S')\n",
        "plt.title('From Scratch')\n",
        "\n",
        "plt.show()"
      ],
      "metadata": {
        "colab": {
          "base_uri": "https://localhost:8080/",
          "height": 1000
        },
        "id": "x9Xuoju-1_-F",
        "outputId": "c1e4d136-e95c-40d2-8987-b910e794dcfb"
      },
      "execution_count": 31,
      "outputs": [
        {
          "output_type": "stream",
          "name": "stdout",
          "text": [
            "26.71591544151306\n",
            "23.959740161895752\n",
            "24.416155338287354\n",
            "23.7719144821167\n",
            "1626.2390701770782\n",
            "807.6195809841156\n",
            "421.48416233062744\n",
            "245.6577229499817\n"
          ]
        },
        {
          "output_type": "display_data",
          "data": {
            "text/plain": [
              "<Figure size 640x480 with 1 Axes>"
            ],
            "image/png": "[encoded data removed]"
          },
          "metadata": {}
        },
        {
          "output_type": "display_data",
          "data": {
            "text/plain": [
              "<Figure size 640x480 with 1 Axes>"
            ],
            "image/png": "[encoded data removed]"
          },
          "metadata": {}
        }
      ]
    },
    {
      "cell_type": "markdown",
      "source": [
        "The most effective data loader is Pytorch Version with batch Size 1024"
      ],
      "metadata": {
        "id": "00Frl_m43zoS"
      }
    },
    {
      "cell_type": "code",
      "source": [
        "import torch\n",
        "import torch.nn as nn\n",
        "import torch.optim as optim\n",
        "from torchvision import datasets, transforms\n",
        "from torch.utils.data import DataLoader\n",
        "import matplotlib.pyplot as plt\n",
        "\n",
        "# Set random seed for reproducibility\n",
        "torch.manual_seed(42)\n",
        "\n",
        "# Define the neural network architecture\n",
        "class FFNN(nn.Module):\n",
        "    def __init__(self):\n",
        "        super(FFNN, self).__init__()\n",
        "        self.fc1 = nn.Linear(28*28, 32)\n",
        "        self.fc2 = nn.Linear(32, 32)\n",
        "        self.fc3 = nn.Linear(32, 32)\n",
        "        self.fc4 = nn.Linear(32, 32)\n",
        "        self.fc5 = nn.Linear(32, 10)  # Output layer\n",
        "\n",
        "    def forward(self, x):\n",
        "        x = x.view(-1, 28*28)  # Flatten the input image\n",
        "        x = torch.relu(self.fc1(x))\n",
        "        x = torch.relu(self.fc2(x))\n",
        "        x = torch.relu(self.fc3(x))\n",
        "        x = torch.relu(self.fc4(x))\n",
        "        x = self.fc5(x)\n",
        "        return x\n",
        "\n",
        "# Load the MNIST dataset\n",
        "transform = transforms.Compose([transforms.ToTensor(), transforms.Normalize((0.5,), (0.5,))])\n",
        "train_dataset = datasets.MNIST('./data', train=True, download=True, transform=transform)\n",
        "test_dataset = datasets.MNIST('./data', train=False, download=True, transform=transform)\n",
        "\n",
        "# Create data loaders\n",
        "train_loader = DataLoader(train_dataset, batch_size=64, shuffle=True)\n",
        "test_loader = DataLoader(test_dataset, batch_size=64, shuffle=False)\n",
        "\n",
        "# Initialize the model, loss function, and optimizer\n",
        "model = FFNN()\n",
        "criterion = nn.CrossEntropyLoss()\n",
        "optimizer = optim.SGD(model.parameters(), lr=0.0003)\n",
        "\n",
        "# Training loop\n",
        "epochs = 60\n",
        "train_losses, train_acc, val_losses, val_acc = [], [], [], []\n",
        "\n",
        "for epoch in range(epochs):\n",
        "    model.train()\n",
        "    running_loss = 0.0\n",
        "    correct_train = 0\n",
        "\n",
        "    for inputs, labels in train_loader:\n",
        "        optimizer.zero_grad()\n",
        "        outputs = model(inputs)\n",
        "        loss = criterion(outputs, labels)\n",
        "        loss.backward()\n",
        "        optimizer.step()\n",
        "\n",
        "        running_loss += loss.item()\n",
        "        _, predicted = torch.max(outputs, 1)\n",
        "        correct_train += (predicted == labels).sum().item()\n",
        "\n",
        "    train_loss = running_loss / len(train_loader)\n",
        "    train_accuracy = correct_train / len(train_dataset)\n",
        "    train_losses.append(train_loss)\n",
        "    train_acc.append(train_accuracy)\n",
        "\n",
        "    # Validation\n",
        "    model.eval()\n",
        "    val_loss = 0.0\n",
        "    correct_val = 0\n",
        "\n",
        "    with torch.no_grad():\n",
        "        for inputs, labels in test_loader:\n",
        "            outputs = model(inputs)\n",
        "            val_loss += criterion(outputs, labels).item()\n",
        "            _, predicted = torch.max(outputs, 1)\n",
        "            correct_val += (predicted == labels).sum().item()\n",
        "\n",
        "    val_loss /= len(test_loader)\n",
        "    val_accuracy = correct_val / len(test_dataset)\n",
        "    val_losses.append(val_loss)\n",
        "    val_acc.append(val_accuracy)\n",
        "\n",
        "    print(f'Epoch [{epoch + 1}/{epochs}], '\n",
        "          f'Training Loss: {train_loss:.4f}, Training Accuracy: {train_accuracy:.4f}, '\n",
        "          f'Validation Loss: {val_loss:.4f}, Validation Accuracy: {val_accuracy:.4f}')\n",
        "\n",
        "# Plotting\n",
        "plt.figure(figsize=(10, 5))\n",
        "plt.subplot(1, 2, 1)\n",
        "plt.plot(range(1, epochs+1), train_losses, label='Training Loss')\n",
        "plt.plot(range(1, epochs+1), val_losses, label='Validation Loss')\n",
        "plt.title('Loss over Epochs')\n",
        "plt.xlabel('Epochs')\n",
        "plt.ylabel('Loss')\n",
        "plt.legend()\n",
        "\n",
        "plt.subplot(1, 2, 2)\n",
        "plt.plot(range(1, epochs+1), train_acc, label='Training Accuracy')\n",
        "plt.plot(range(1, epochs+1), val_acc, label='Validation Accuracy')\n",
        "plt.title('Accuracy over Epochs')\n",
        "plt.xlabel('Epochs')\n",
        "plt.ylabel('Accuracy')\n",
        "plt.legend()\n",
        "\n",
        "plt.tight_layout()\n",
        "plt.show()\n"
      ],
      "metadata": {
        "colab": {
          "base_uri": "https://localhost:8080/",
          "height": 1000
        },
        "id": "AWF3_uYBLAAt",
        "outputId": "cf80dd94-5f3e-4f39-f693-02c8b9975fb1"
      },
      "execution_count": 35,
      "outputs": [
        {
          "output_type": "stream",
          "name": "stdout",
          "text": [
            "Downloading http://yann.lecun.com/exdb/mnist/train-images-idx3-ubyte.gz\n",
            "Downloading http://yann.lecun.com/exdb/mnist/train-images-idx3-ubyte.gz to ./data/MNIST/raw/train-images-idx3-ubyte.gz\n"
          ]
        },
        {
          "output_type": "stream",
          "name": "stderr",
          "text": [
            "100%|██████████| 9912422/9912422 [00:00<00:00, 244049068.69it/s]"
          ]
        },
        {
          "output_type": "stream",
          "name": "stdout",
          "text": [
            "Extracting ./data/MNIST/raw/train-images-idx3-ubyte.gz to ./data/MNIST/raw\n"
          ]
        },
        {
          "output_type": "stream",
          "name": "stderr",
          "text": [
            "\n"
          ]
        },
        {
          "output_type": "stream",
          "name": "stdout",
          "text": [
            "\n",
            "Downloading http://yann.lecun.com/exdb/mnist/train-labels-idx1-ubyte.gz\n",
            "Downloading http://yann.lecun.com/exdb/mnist/train-labels-idx1-ubyte.gz to ./data/MNIST/raw/train-labels-idx1-ubyte.gz\n"
          ]
        },
        {
          "output_type": "stream",
          "name": "stderr",
          "text": [
            "100%|██████████| 28881/28881 [00:00<00:00, 23012099.89it/s]\n"
          ]
        },
        {
          "output_type": "stream",
          "name": "stdout",
          "text": [
            "Extracting ./data/MNIST/raw/train-labels-idx1-ubyte.gz to ./data/MNIST/raw\n",
            "\n",
            "Downloading http://yann.lecun.com/exdb/mnist/t10k-images-idx3-ubyte.gz\n",
            "Downloading http://yann.lecun.com/exdb/mnist/t10k-images-idx3-ubyte.gz to ./data/MNIST/raw/t10k-images-idx3-ubyte.gz\n"
          ]
        },
        {
          "output_type": "stream",
          "name": "stderr",
          "text": [
            "100%|██████████| 1648877/1648877 [00:00<00:00, 74899998.88it/s]\n"
          ]
        },
        {
          "output_type": "stream",
          "name": "stdout",
          "text": [
            "Extracting ./data/MNIST/raw/t10k-images-idx3-ubyte.gz to ./data/MNIST/raw\n",
            "\n",
            "Downloading http://yann.lecun.com/exdb/mnist/t10k-labels-idx1-ubyte.gz\n",
            "Downloading http://yann.lecun.com/exdb/mnist/t10k-labels-idx1-ubyte.gz to ./data/MNIST/raw/t10k-labels-idx1-ubyte.gz\n"
          ]
        },
        {
          "output_type": "stream",
          "name": "stderr",
          "text": [
            "100%|██████████| 4542/4542 [00:00<00:00, 15425529.37it/s]"
          ]
        },
        {
          "output_type": "stream",
          "name": "stdout",
          "text": [
            "Extracting ./data/MNIST/raw/t10k-labels-idx1-ubyte.gz to ./data/MNIST/raw\n",
            "\n"
          ]
        },
        {
          "output_type": "stream",
          "name": "stderr",
          "text": [
            "\n"
          ]
        },
        {
          "output_type": "stream",
          "name": "stdout",
          "text": [
            "Epoch [1/60], Training Loss: 2.3034, Training Accuracy: 0.0987, Validation Loss: 2.3027, Validation Accuracy: 0.0980\n",
            "Epoch [2/60], Training Loss: 2.3019, Training Accuracy: 0.0987, Validation Loss: 2.3011, Validation Accuracy: 0.0980\n",
            "Epoch [3/60], Training Loss: 2.3004, Training Accuracy: 0.0987, Validation Loss: 2.2995, Validation Accuracy: 0.0980\n",
            "Epoch [4/60], Training Loss: 2.2987, Training Accuracy: 0.0987, Validation Loss: 2.2977, Validation Accuracy: 0.0980\n",
            "Epoch [5/60], Training Loss: 2.2968, Training Accuracy: 0.0987, Validation Loss: 2.2956, Validation Accuracy: 0.0980\n",
            "Epoch [6/60], Training Loss: 2.2946, Training Accuracy: 0.0987, Validation Loss: 2.2931, Validation Accuracy: 0.0980\n",
            "Epoch [7/60], Training Loss: 2.2919, Training Accuracy: 0.0987, Validation Loss: 2.2901, Validation Accuracy: 0.0980\n",
            "Epoch [8/60], Training Loss: 2.2888, Training Accuracy: 0.0987, Validation Loss: 2.2867, Validation Accuracy: 0.0980\n",
            "Epoch [9/60], Training Loss: 2.2854, Training Accuracy: 0.0987, Validation Loss: 2.2829, Validation Accuracy: 0.0980\n",
            "Epoch [10/60], Training Loss: 2.2814, Training Accuracy: 0.0987, Validation Loss: 2.2784, Validation Accuracy: 0.0980\n",
            "Epoch [11/60], Training Loss: 2.2767, Training Accuracy: 0.0987, Validation Loss: 2.2732, Validation Accuracy: 0.0980\n",
            "Epoch [12/60], Training Loss: 2.2711, Training Accuracy: 0.0988, Validation Loss: 2.2670, Validation Accuracy: 0.0986\n",
            "Epoch [13/60], Training Loss: 2.2645, Training Accuracy: 0.1050, Validation Loss: 2.2596, Validation Accuracy: 0.1127\n",
            "Epoch [14/60], Training Loss: 2.2565, Training Accuracy: 0.1260, Validation Loss: 2.2505, Validation Accuracy: 0.1350\n",
            "Epoch [15/60], Training Loss: 2.2463, Training Accuracy: 0.1468, Validation Loss: 2.2385, Validation Accuracy: 0.1580\n",
            "Epoch [16/60], Training Loss: 2.2330, Training Accuracy: 0.1758, Validation Loss: 2.2232, Validation Accuracy: 0.1958\n",
            "Epoch [17/60], Training Loss: 2.2163, Training Accuracy: 0.2127, Validation Loss: 2.2044, Validation Accuracy: 0.2197\n",
            "Epoch [18/60], Training Loss: 2.1963, Training Accuracy: 0.2334, Validation Loss: 2.1823, Validation Accuracy: 0.2311\n",
            "Epoch [19/60], Training Loss: 2.1730, Training Accuracy: 0.2328, Validation Loss: 2.1571, Validation Accuracy: 0.2216\n",
            "Epoch [20/60], Training Loss: 2.1469, Training Accuracy: 0.2091, Validation Loss: 2.1296, Validation Accuracy: 0.1921\n",
            "Epoch [21/60], Training Loss: 2.1189, Training Accuracy: 0.2003, Validation Loss: 2.1006, Validation Accuracy: 0.2018\n",
            "Epoch [22/60], Training Loss: 2.0895, Training Accuracy: 0.2104, Validation Loss: 2.0708, Validation Accuracy: 0.2110\n",
            "Epoch [23/60], Training Loss: 2.0596, Training Accuracy: 0.2184, Validation Loss: 2.0410, Validation Accuracy: 0.2149\n",
            "Epoch [24/60], Training Loss: 2.0297, Training Accuracy: 0.2245, Validation Loss: 2.0109, Validation Accuracy: 0.2197\n",
            "Epoch [25/60], Training Loss: 1.9990, Training Accuracy: 0.2309, Validation Loss: 1.9802, Validation Accuracy: 0.2300\n",
            "Epoch [26/60], Training Loss: 1.9677, Training Accuracy: 0.2417, Validation Loss: 1.9484, Validation Accuracy: 0.2401\n",
            "Epoch [27/60], Training Loss: 1.9360, Training Accuracy: 0.2544, Validation Loss: 1.9171, Validation Accuracy: 0.2509\n",
            "Epoch [28/60], Training Loss: 1.9053, Training Accuracy: 0.2658, Validation Loss: 1.8867, Validation Accuracy: 0.2613\n",
            "Epoch [29/60], Training Loss: 1.8757, Training Accuracy: 0.2954, Validation Loss: 1.8576, Validation Accuracy: 0.3189\n",
            "Epoch [30/60], Training Loss: 1.8478, Training Accuracy: 0.3599, Validation Loss: 1.8311, Validation Accuracy: 0.3549\n",
            "Epoch [31/60], Training Loss: 1.8224, Training Accuracy: 0.3375, Validation Loss: 1.8064, Validation Accuracy: 0.3248\n",
            "Epoch [32/60], Training Loss: 1.7983, Training Accuracy: 0.3304, Validation Loss: 1.7823, Validation Accuracy: 0.3317\n",
            "Epoch [33/60], Training Loss: 1.7738, Training Accuracy: 0.3383, Validation Loss: 1.7575, Validation Accuracy: 0.3424\n",
            "Epoch [34/60], Training Loss: 1.7482, Training Accuracy: 0.3484, Validation Loss: 1.7310, Validation Accuracy: 0.3542\n",
            "Epoch [35/60], Training Loss: 1.7205, Training Accuracy: 0.3602, Validation Loss: 1.7017, Validation Accuracy: 0.3682\n",
            "Epoch [36/60], Training Loss: 1.6901, Training Accuracy: 0.3765, Validation Loss: 1.6697, Validation Accuracy: 0.3846\n",
            "Epoch [37/60], Training Loss: 1.6562, Training Accuracy: 0.3958, Validation Loss: 1.6343, Validation Accuracy: 0.4095\n",
            "Epoch [38/60], Training Loss: 1.6186, Training Accuracy: 0.4193, Validation Loss: 1.5929, Validation Accuracy: 0.4212\n",
            "Epoch [39/60], Training Loss: 1.5760, Training Accuracy: 0.4401, Validation Loss: 1.5465, Validation Accuracy: 0.4451\n",
            "Epoch [40/60], Training Loss: 1.5267, Training Accuracy: 0.4631, Validation Loss: 1.4930, Validation Accuracy: 0.4697\n",
            "Epoch [41/60], Training Loss: 1.4698, Training Accuracy: 0.4894, Validation Loss: 1.4330, Validation Accuracy: 0.4873\n",
            "Epoch [42/60], Training Loss: 1.4077, Training Accuracy: 0.5125, Validation Loss: 1.3688, Validation Accuracy: 0.5149\n",
            "Epoch [43/60], Training Loss: 1.3440, Training Accuracy: 0.5401, Validation Loss: 1.3062, Validation Accuracy: 0.5356\n",
            "Epoch [44/60], Training Loss: 1.2835, Training Accuracy: 0.5613, Validation Loss: 1.2495, Validation Accuracy: 0.5628\n",
            "Epoch [45/60], Training Loss: 1.2290, Training Accuracy: 0.5825, Validation Loss: 1.1974, Validation Accuracy: 0.5855\n",
            "Epoch [46/60], Training Loss: 1.1799, Training Accuracy: 0.6014, Validation Loss: 1.1510, Validation Accuracy: 0.6056\n",
            "Epoch [47/60], Training Loss: 1.1346, Training Accuracy: 0.6196, Validation Loss: 1.1086, Validation Accuracy: 0.6182\n",
            "Epoch [48/60], Training Loss: 1.0920, Training Accuracy: 0.6360, Validation Loss: 1.0670, Validation Accuracy: 0.6379\n",
            "Epoch [49/60], Training Loss: 1.0508, Training Accuracy: 0.6502, Validation Loss: 1.0263, Validation Accuracy: 0.6549\n",
            "Epoch [50/60], Training Loss: 1.0107, Training Accuracy: 0.6658, Validation Loss: 0.9872, Validation Accuracy: 0.6725\n",
            "Epoch [51/60], Training Loss: 0.9724, Training Accuracy: 0.6813, Validation Loss: 0.9492, Validation Accuracy: 0.6908\n",
            "Epoch [52/60], Training Loss: 0.9358, Training Accuracy: 0.6948, Validation Loss: 0.9148, Validation Accuracy: 0.7040\n",
            "Epoch [53/60], Training Loss: 0.9018, Training Accuracy: 0.7091, Validation Loss: 0.8808, Validation Accuracy: 0.7168\n",
            "Epoch [54/60], Training Loss: 0.8701, Training Accuracy: 0.7215, Validation Loss: 0.8504, Validation Accuracy: 0.7252\n",
            "Epoch [55/60], Training Loss: 0.8416, Training Accuracy: 0.7329, Validation Loss: 0.8232, Validation Accuracy: 0.7392\n",
            "Epoch [56/60], Training Loss: 0.8153, Training Accuracy: 0.7430, Validation Loss: 0.7963, Validation Accuracy: 0.7493\n",
            "Epoch [57/60], Training Loss: 0.7915, Training Accuracy: 0.7526, Validation Loss: 0.7731, Validation Accuracy: 0.7584\n",
            "Epoch [58/60], Training Loss: 0.7695, Training Accuracy: 0.7620, Validation Loss: 0.7512, Validation Accuracy: 0.7694\n",
            "Epoch [59/60], Training Loss: 0.7487, Training Accuracy: 0.7699, Validation Loss: 0.7307, Validation Accuracy: 0.7770\n",
            "Epoch [60/60], Training Loss: 0.7296, Training Accuracy: 0.7783, Validation Loss: 0.7124, Validation Accuracy: 0.7864\n"
          ]
        },
        {
          "output_type": "display_data",
          "data": {
            "text/plain": [
              "<Figure size 1000x500 with 2 Axes>"
            ],
            "image/png": "[encoded data removed]"
          },
          "metadata": {}
        }
      ]
    },
    {
      "cell_type": "code",
      "source": [],
      "metadata": {
        "id": "yuqP8pm-Qk8B"
      },
      "execution_count": null,
      "outputs": []
    }
  ]
}