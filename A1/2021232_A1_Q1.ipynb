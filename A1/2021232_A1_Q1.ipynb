{
  "nbformat": 4,
  "nbformat_minor": 0,
  "metadata": {
    "colab": {
      "provenance": [],
      "include_colab_link": true
    },
    "kernelspec": {
      "name": "python3",
      "display_name": "Python 3"
    },
    "language_info": {
      "name": "python"
    }
  },
  "cells": [
    {
      "cell_type": "markdown",
      "metadata": {
        "id": "view-in-github",
        "colab_type": "text"
      },
      "source": [
        "<a href=\"https://colab.research.google.com/github/Ankush-Gupta04/DL-Assignments-/blob/main/2021232_A1.ipynb\" target=\"_parent\"><img src=\"https://colab.research.google.com/assets/colab-badge.svg\" alt=\"Open In Colab\"/></a>"
      ]
    },
    {
      "cell_type": "code",
      "source": [
        "from google.colab import drive\n",
        "drive.mount('/content/drive')"
      ],
      "metadata": {
        "colab": {
          "base_uri": "https://localhost:8080/"
        },
        "id": "0S80PdWfMfd1",
        "outputId": "67413819-c711-4f86-ae57-b83b0bea2ec4"
      },
      "execution_count": 1,
      "outputs": [
        {
          "output_type": "stream",
          "name": "stdout",
          "text": [
            "Mounted at /content/drive\n"
          ]
        }
      ]
    },
    {
      "cell_type": "code",
      "source": [
        "import tarfile\n",
        "\n",
        "tar_file = \"./drive/MyDrive/DL/MNIST_DATASET.tar.xz\"\n",
        "output = \"./MNIST\"\n",
        "\n",
        "with tarfile.open(tar_file,'r:xz') as tar:\n",
        "  tar.extractall(output)"
      ],
      "metadata": {
        "id": "fDTgOChiz-ro"
      },
      "execution_count": 3,
      "outputs": []
    },
    {
      "cell_type": "code",
      "source": [
        "import os\n",
        "import csv\n",
        "\n",
        "image_folder_path = './MNIST/MNIST_DATASET/trainingSet/trainingSet/'\n",
        "csv_file_path = './dataset_train.csv'\n",
        "data = []\n",
        "\n",
        "for class_label in os.listdir(image_folder_path):\n",
        "    class_path = os.path.join(image_folder_path, class_label)\n",
        "\n",
        "    if os.path.isdir(class_path):\n",
        "        for image_file in os.listdir(class_path):\n",
        "            if image_file.lower().endswith(('.png', '.jpg', '.jpeg')):\n",
        "                image_path = os.path.join(class_path, image_file)\n",
        "                data.append([image_path, class_label])\n",
        "\n",
        "with open(csv_file_path, mode='w', newline='') as csv_file:\n",
        "    csv_writer = csv.writer(csv_file)\n",
        "    csv_writer.writerow(['path', 'label'])\n",
        "    csv_writer.writerows(data)\n",
        "\n",
        "print(f\"CSV file created at: {csv_file_path}\")\n"
      ],
      "metadata": {
        "colab": {
          "base_uri": "https://localhost:8080/"
        },
        "id": "ob2_ckZbiX_Z",
        "outputId": "c9aede34-3e75-4694-fd7c-b459974bf6de"
      },
      "execution_count": 4,
      "outputs": [
        {
          "output_type": "stream",
          "name": "stdout",
          "text": [
            "CSV file created at: ./dataset_train.csv\n"
          ]
        }
      ]
    },
    {
      "cell_type": "code",
      "source": [
        "import os\n",
        "import csv\n",
        "\n",
        "image_folder_path = './MNIST/MNIST_DATASET/testSet/'\n",
        "csv_file_path = './dataset_test.csv'\n",
        "data = []\n",
        "\n",
        "for class_label in os.listdir(image_folder_path):\n",
        "    class_path = os.path.join(image_folder_path, class_label)\n",
        "\n",
        "    if os.path.isdir(class_path):\n",
        "        for image_file in os.listdir(class_path):\n",
        "            if image_file.lower().endswith(('.png', '.jpg', '.jpeg')):\n",
        "                image_path = os.path.join(class_path, image_file)\n",
        "                data.append([image_path, class_label])\n",
        "\n",
        "with open(csv_file_path, mode='w', newline='') as csv_file:\n",
        "    csv_writer = csv.writer(csv_file)\n",
        "    csv_writer.writerow(['path', 'label'])\n",
        "    csv_writer.writerows(data)\n",
        "\n",
        "print(f\"CSV file created at: {csv_file_path}\")"
      ],
      "metadata": {
        "colab": {
          "base_uri": "https://localhost:8080/"
        },
        "id": "8a7jxZmcrlzW",
        "outputId": "5cabee25-2873-4c8c-854d-bc430eb0d8cc"
      },
      "execution_count": 5,
      "outputs": [
        {
          "output_type": "stream",
          "name": "stdout",
          "text": [
            "CSV file created at: ./dataset_test.csv\n"
          ]
        }
      ]
    },
    {
      "cell_type": "code",
      "source": [
        "import torch\n",
        "from torch.utils.data import Dataset, DataLoader\n",
        "from PIL import Image\n",
        "from torchvision import transforms\n",
        "import os\n",
        "import time\n",
        "import pandas as pd\n",
        "\n",
        "class CustomDataset(Dataset):\n",
        "    def __init__(self, csv_file, transform=None):\n",
        "        self.path_frame = csv_file\n",
        "        self.transform = transform\n",
        "        self.classes = [str(i) for i in range(0,10)]\n",
        "\n",
        "    def __len__(self):\n",
        "        return len(self.path_frame)\n",
        "\n",
        "    def __getitem__(self, index):\n",
        "      image_path = self.path_frame['path'][index]\n",
        "      label = self.path_frame['label'][index]\n",
        "\n",
        "      transform = transforms.Compose([transforms.ToTensor()])\n",
        "      image = Image.open(image_path)\n",
        "      tensor = transform(image)\n",
        "      return tensor, label\n",
        "\n",
        "\n",
        "mnist_test= CustomDataset(pd.read_csv(\"./dataset_test.csv\"))\n",
        "mnist_train= CustomDataset(pd.read_csv(\"./dataset_train.csv\"))\n",
        "\n",
        "batch_size = 128\n",
        "shuffle = False\n",
        "num_workers = 0\n",
        "\n",
        "start_time = time.time()\n",
        "mnist_train_c = DataLoader(dataset=mnist_train, batch_size=batch_size, shuffle=shuffle,num_workers=num_workers)\n",
        "mnist_test_c = DataLoader(dataset=mnist_test, batch_size=batch_size, shuffle=shuffle,num_workers=num_workers)\n",
        "\n",
        "for train_data, label in mnist_test_c:\n",
        "  pass\n",
        "\n",
        "for test_data, label in mnist_train_c:\n",
        "  pass\n",
        "\n",
        "end_time = time.time()\n",
        "\n",
        "time_t_128 = end_time - start_time\n",
        "print(f\"Time taken to create DataLoader: {time_t_128} seconds\")"
      ],
      "metadata": {
        "colab": {
          "base_uri": "https://localhost:8080/"
        },
        "id": "VJSXtVkR1xOB",
        "outputId": "4ff333f5-aa29-4dd2-e453-3cea94ecc9c9"
      },
      "execution_count": 6,
      "outputs": [
        {
          "output_type": "stream",
          "name": "stdout",
          "text": [
            "Time taken to create DataLoader: 26.71591544151306 seconds\n"
          ]
        }
      ]
    },
    {
      "cell_type": "code",
      "source": [
        "batch_size = 256\n",
        "shuffle = False\n",
        "num_workers = 0\n",
        "\n",
        "start_time = time.time()\n",
        "mnist_train_c = DataLoader(dataset=mnist_train, batch_size=batch_size, shuffle=shuffle,num_workers=num_workers)\n",
        "mnist_test_c = DataLoader(dataset=mnist_test, batch_size=batch_size, shuffle=shuffle,num_workers=num_workers)\n",
        "\n",
        "for train_data, label in mnist_test_c:\n",
        "  pass\n",
        "\n",
        "for test_data, label in mnist_train_c:\n",
        "  pass\n",
        "\n",
        "end_time = time.time()\n",
        "\n",
        "time_t_256 = end_time - start_time\n",
        "print(f\"Time taken to create DataLoader: {time_t_256} seconds\")"
      ],
      "metadata": {
        "id": "9FhpzHTfLVmv",
        "colab": {
          "base_uri": "https://localhost:8080/"
        },
        "outputId": "484b3778-d049-4658-bc96-f9347cce76c6"
      },
      "execution_count": 7,
      "outputs": [
        {
          "output_type": "stream",
          "name": "stdout",
          "text": [
            "Time taken to create DataLoader: 23.959740161895752 seconds\n"
          ]
        }
      ]
    },
    {
      "cell_type": "code",
      "source": [
        "batch_size = 512\n",
        "shuffle = False\n",
        "num_workers = 0\n",
        "\n",
        "start_time = time.time()\n",
        "mnist_train_c = DataLoader(dataset=mnist_train, batch_size=batch_size, shuffle=shuffle,num_workers=num_workers)\n",
        "mnist_test_c = DataLoader(dataset=mnist_test, batch_size=batch_size, shuffle=shuffle,num_workers=num_workers)\n",
        "\n",
        "for train_data, label in mnist_test_c:\n",
        "  pass\n",
        "\n",
        "for test_data, label in mnist_train_c:\n",
        "  pass\n",
        "\n",
        "end_time = time.time()\n",
        "\n",
        "time_t_512 = end_time - start_time\n",
        "print(f\"Time taken to create DataLoader: {time_t_512} seconds\")"
      ],
      "metadata": {
        "colab": {
          "base_uri": "https://localhost:8080/"
        },
        "id": "Y_Ng08SdOCbc",
        "outputId": "f1f92fee-b4ce-485c-b4ad-f312cb09e732"
      },
      "execution_count": 8,
      "outputs": [
        {
          "output_type": "stream",
          "name": "stdout",
          "text": [
            "Time taken to create DataLoader: 24.416155338287354 seconds\n"
          ]
        }
      ]
    },
    {
      "cell_type": "code",
      "source": [
        "batch_size = 1024\n",
        "shuffle = False\n",
        "num_workers = 0\n",
        "\n",
        "start_time = time.time()\n",
        "mnist_train_c = DataLoader(dataset=mnist_train, batch_size=batch_size, shuffle=shuffle,num_workers=num_workers)\n",
        "mnist_test_c = DataLoader(dataset=mnist_test, batch_size=batch_size, shuffle=shuffle,num_workers=num_workers)\n",
        "\n",
        "for train_data, label in mnist_test_c:\n",
        "  pass\n",
        "\n",
        "for test_data, label in mnist_train_c:\n",
        "  pass\n",
        "\n",
        "end_time = time.time()\n",
        "\n",
        "time_t_1024 = end_time - start_time\n",
        "print(f\"Time taken to create DataLoader: {time_t_1024} seconds\")"
      ],
      "metadata": {
        "colab": {
          "base_uri": "https://localhost:8080/"
        },
        "id": "ryr7dVASORjL",
        "outputId": "9f1f12e2-4474-4641-f1d9-ff0c44ffb2a2"
      },
      "execution_count": 9,
      "outputs": [
        {
          "output_type": "stream",
          "name": "stdout",
          "text": [
            "Time taken to create DataLoader: 23.7719144821167 seconds\n"
          ]
        }
      ]
    },
    {
      "cell_type": "code",
      "source": [
        "import torch\n",
        "from torch.utils.data import Dataset, DataLoader\n",
        "from PIL import Image\n",
        "import numpy as np\n",
        "from torchvision import transforms\n",
        "import os\n",
        "import time\n",
        "import pandas as pd\n",
        "from sklearn.utils import shuffle\n",
        "\n",
        "class CustomDataset(Dataset):\n",
        "  def __init__(self, csv_file, transform=None):\n",
        "    self.path_frame = csv_file\n",
        "    self.transform = transform\n",
        "    self.classes = [str(i) for i in range(0,10)]\n",
        "\n",
        "  def __len__(self):\n",
        "    return len(self.path_frame)\n",
        "\n",
        "  def __getitem__(self, index):\n",
        "    image_path = self.path_frame['path'][index]\n",
        "    label = self.path_frame['label'][index]\n",
        "\n",
        "    if self.transform:\n",
        "          image = self.transform(image_path)\n",
        "    return image, label\n",
        "\n",
        "class ToTensor:\n",
        "  def __call__(self, img):\n",
        "    if img is None:\n",
        "      return\n",
        "    img_np = np.array(img)\n",
        "    img_np = img_np / 255.0\n",
        "    img_np = np.transpose(img_np, (2, 0, 1))\n",
        "    img_np = img_np.astype(np.float32)\n",
        "    return img_np\n",
        "\n",
        "class Compose:\n",
        "  def __init__(self, transforms):\n",
        "    self.transforms = transforms\n",
        "\n",
        "  def __call__(self, img):\n",
        "    for transform in self.transforms:\n",
        "      img = transform(img)\n",
        "    return img\n",
        "\n",
        "class Resize:\n",
        "  def __init__(self, size):\n",
        "    self.size = size\n",
        "\n",
        "  def __call__(self, img):\n",
        "    if isinstance(img, Image.Image):\n",
        "      return img.resize(self.size)\n",
        "    elif isinstance(img, np.ndarray):\n",
        "      pil_img = Image.fromarray(np.uint8(img * 255.0))\n",
        "      return pil_img.resize(self.size)\n",
        "\n",
        "\n",
        "class CustomDataLoader:\n",
        "  def __init__(self, dataset, batch_size, shuffle=True):\n",
        "    self.dataset = dataset\n",
        "    self.batch_size = batch_size\n",
        "    self.shuffle_data = shuffle\n",
        "    self.current_index = 0\n",
        "\n",
        "    if shuffle:\n",
        "      self.dataset = shuffle(self.dataset)\n",
        "\n",
        "  def __iter__(self):\n",
        "    return self\n",
        "\n",
        "  def __next__(self):\n",
        "    if self.current_index >= len(self.dataset):\n",
        "      self.current_index = 0  # Reset the index for the next epoch\n",
        "      raise StopIteration\n",
        "\n",
        "    batch = self.dataset[self.current_index:self.current_index + self.batch_size]\n",
        "    self.current_index += self.batch_size\n",
        "\n",
        "    return batch\n",
        "\n",
        "\n",
        "\n",
        "\n",
        "transform = Compose([Resize((256)), ToTensor()])\n",
        "\n",
        "\n",
        "mnist_test_a= CustomDataset(pd.read_csv(\"./dataset_test.csv\"),transform=transform)\n",
        "mnist_train_a= CustomDataset(pd.read_csv(\"./dataset_train.csv\"),transform=transform)\n",
        "\n",
        "batch_size = 256\n",
        "shuffle = False\n",
        "\n",
        "start_time = time.time()\n",
        "mnist_train_dlc = CustomDataLoader(dataset=mnist_train_a, batch_size=batch_size, shuffle=shuffle)\n",
        "mnist_test_dlc = CustomDataLoader(dataset=mnist_test_a, batch_size=batch_size, shuffle=shuffle)\n",
        "\n",
        "num_epoch = len(mnist_test_a)\n",
        "print (num_epoch)\n",
        "\n",
        "for epoch in range(num_epoch):\n",
        "  for batch in mnist_train_dlc:\n",
        "    pass\n",
        "\n",
        "num_epoch = len(mnist_train_a)\n",
        "for epoch in range(num_epoch):\n",
        "  for batch in mnist_test_dlc :\n",
        "    pass\n",
        "end_time = time.time()\n",
        "\n",
        "time_a_256 = end_time - start_time\n",
        "print(f\"Time taken to create DataLoader: {time_a_256} seconds\")"
      ],
      "metadata": {
        "colab": {
          "base_uri": "https://localhost:8080/"
        },
        "id": "qXSyJkd4Ogmu",
        "outputId": "c8db3411-b17f-4032-9e89-649b312a8d8a"
      },
      "execution_count": 21,
      "outputs": [
        {
          "output_type": "stream",
          "name": "stdout",
          "text": [
            "28000\n",
            "Time taken to create DataLoader: 807.6195809841156 seconds\n"
          ]
        }
      ]
    },
    {
      "cell_type": "code",
      "source": [
        "batch_size = 512\n",
        "shuffle = False\n",
        "\n",
        "start_time = time.time()\n",
        "mnist_train_dlc = CustomDataLoader(dataset=mnist_train_a, batch_size=batch_size, shuffle=shuffle)\n",
        "mnist_test_dlc = CustomDataLoader(dataset=mnist_test_a, batch_size=batch_size, shuffle=shuffle)\n",
        "\n",
        "num_epoch = len(mnist_test_a)\n",
        "\n",
        "for epoch in range(num_epoch):\n",
        "  for batch in mnist_train_dlc:\n",
        "    pass\n",
        "\n",
        "num_epoch = len(mnist_train_a)\n",
        "for epoch in range(num_epoch):\n",
        "  for batch in mnist_test_dlc :\n",
        "    pass\n",
        "end_time = time.time()\n",
        "\n",
        "time_a_512 = end_time - start_time\n",
        "print(f\"Time taken to create DataLoader: {time_a_512} seconds\")"
      ],
      "metadata": {
        "id": "yAT122BQdXkX",
        "colab": {
          "base_uri": "https://localhost:8080/"
        },
        "outputId": "fb3a46ea-d38b-4459-b761-a38f00773150"
      },
      "execution_count": 23,
      "outputs": [
        {
          "output_type": "stream",
          "name": "stdout",
          "text": [
            "Time taken to create DataLoader: 421.48416233062744 seconds\n"
          ]
        }
      ]
    },
    {
      "cell_type": "code",
      "source": [
        "batch_size = 128\n",
        "shuffle = False\n",
        "\n",
        "start_time = time.time()\n",
        "mnist_train_dlc = CustomDataLoader(dataset=mnist_train_a, batch_size=batch_size, shuffle=shuffle)\n",
        "mnist_test_dlc = CustomDataLoader(dataset=mnist_test_a, batch_size=batch_size, shuffle=shuffle)\n",
        "\n",
        "num_epoch = len(mnist_test_a)\n",
        "\n",
        "for epoch in range(num_epoch):\n",
        "  for batch in mnist_train_dlc:\n",
        "    pass\n",
        "\n",
        "num_epoch = len(mnist_train_a)\n",
        "for epoch in range(num_epoch):\n",
        "  for batch in mnist_test_dlc :\n",
        "    pass\n",
        "end_time = time.time()\n",
        "\n",
        "time_a_128 = end_time - start_time\n",
        "print(f\"Time taken to create DataLoader: {time_a_128} seconds\")"
      ],
      "metadata": {
        "colab": {
          "base_uri": "https://localhost:8080/"
        },
        "id": "YYsSCQsgt0cv",
        "outputId": "7ec23497-2ca2-4417-b7ed-b550e4fb8ec1"
      },
      "execution_count": 25,
      "outputs": [
        {
          "output_type": "stream",
          "name": "stdout",
          "text": [
            "Time taken to create DataLoader: 1626.2390701770782 seconds\n"
          ]
        }
      ]
    },
    {
      "cell_type": "code",
      "source": [
        "batch_size = 1024\n",
        "shuffle = False\n",
        "\n",
        "start_time = time.time()\n",
        "mnist_train_dlc = CustomDataLoader(dataset=mnist_train_a, batch_size=batch_size, shuffle=shuffle)\n",
        "mnist_test_dlc = CustomDataLoader(dataset=mnist_test_a, batch_size=batch_size, shuffle=shuffle)\n",
        "\n",
        "num_epoch = len(mnist_train_a)\n",
        "\n",
        "for epoch in range(num_epoch):\n",
        "  for batch in mnist_train_dlc:\n",
        "    pass\n",
        "\n",
        "num_epoch = len(mnist_test_a)\n",
        "for epoch in range(num_epoch):\n",
        "  for batch in mnist_test_dlc :\n",
        "    pass\n",
        "end_time = time.time()\n",
        "\n",
        "time_a_1024 = end_time - start_time\n",
        "print(f\"Time taken to create DataLoader: {time_a_1024} seconds\")"
      ],
      "metadata": {
        "colab": {
          "base_uri": "https://localhost:8080/"
        },
        "id": "UjKnN-3Rt-dj",
        "outputId": "f926e87b-baac-4a59-af42-d83063e94638"
      },
      "execution_count": 27,
      "outputs": [
        {
          "output_type": "stream",
          "name": "stdout",
          "text": [
            "Time taken to create DataLoader: 245.6577229499817 seconds\n"
          ]
        }
      ]
    },
    {
      "cell_type": "code",
      "source": [
        "print(time_t_128)\n",
        "print(time_t_256)\n",
        "print(time_t_512)\n",
        "print(time_t_1024)\n",
        "\n",
        "print(time_a_128)\n",
        "print(time_a_256)\n",
        "print(time_a_512)\n",
        "print(time_a_1024)\n",
        "\n",
        "import matplotlib.pyplot as plt\n",
        "\n",
        "y_values = [time_t_128, time_t_256, time_t_512, time_t_1024]\n",
        "x_values = [128, 256, 512, 1024]\n",
        "\n",
        "plt.plot(x_values, y_values, marker='o', linestyle='-')\n",
        "\n",
        "plt.xlabel('Batch Size')\n",
        "plt.ylabel('Time in S')\n",
        "plt.title('Pytorch Version')\n",
        "\n",
        "plt.show()\n",
        "\n",
        "y_values = [time_a_128, time_a_256, time_a_512, time_a_1024]\n",
        "x_values = [128, 256, 512, 1024]\n",
        "\n",
        "plt.plot(x_values, y_values, marker='o', linestyle='-')\n",
        "\n",
        "plt.xlabel('Batch Size')\n",
        "plt.ylabel('Time in S')\n",
        "plt.title('From Scratch')\n",
        "\n",
        "plt.show()"
      ],
      "metadata": {
        "colab": {
          "base_uri": "https://localhost:8080/",
          "height": 1000
        },
        "id": "x9Xuoju-1_-F",
        "outputId": "c1e4d136-e95c-40d2-8987-b910e794dcfb"
      },
      "execution_count": 31,
      "outputs": [
        {
          "output_type": "stream",
          "name": "stdout",
          "text": [
            "26.71591544151306\n",
            "23.959740161895752\n",
            "24.416155338287354\n",
            "23.7719144821167\n",
            "1626.2390701770782\n",
            "807.6195809841156\n",
            "421.48416233062744\n",
            "245.6577229499817\n"
          ]
        },
        {
          "output_type": "display_data",
          "data": {
            "text/plain": [
              "<Figure size 640x480 with 1 Axes>"
            ],
            "image/png": "[encoded data removed]"
          },
          "metadata": {}
        },
        {
          "output_type": "display_data",
          "data": {
            "text/plain": [
              "<Figure size 640x480 with 1 Axes>"
            ],
            "image/png": "[encoded data removed]"
          },
          "metadata": {}
        }
      ]
    },
    {
      "cell_type": "markdown",
      "source": [
        "The most effective data loader is Pytorch Version with batch Size 1024"
      ],
      "metadata": {
        "id": "00Frl_m43zoS"
      }
    },
    {
      "cell_type": "code",
      "source": [],
      "metadata": {
        "id": "iZPFJt8k4APq"
      },
      "execution_count": null,
      "outputs": []
    }
  ]
}
